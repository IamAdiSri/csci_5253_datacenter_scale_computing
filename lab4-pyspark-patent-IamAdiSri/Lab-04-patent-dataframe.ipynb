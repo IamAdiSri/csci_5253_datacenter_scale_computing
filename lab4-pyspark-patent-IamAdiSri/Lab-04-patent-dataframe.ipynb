{
 "cells": [
  {
   "cell_type": "markdown",
   "metadata": {},
   "source": [
    "# CSCI 4253 / 5253 - Lab #4 - Patent Problem with Spark DataFrames\n",
    "<div>\n",
    " <h2> CSCI 4283 / 5253 \n",
    "  <IMG SRC=\"https://www.colorado.edu/cs/profiles/express/themes/cuspirit/logo.png\" WIDTH=50 ALIGN=\"right\"/> </h2>\n",
    "</div>"
   ]
  },
  {
   "cell_type": "markdown",
   "metadata": {},
   "source": [
    "This [Spark cheatsheet](https://s3.amazonaws.com/assets.datacamp.com/blog_assets/PySpark_SQL_Cheat_Sheet_Python.pdf) is useful as is [this reference on doing joins in Spark dataframe](http://www.learnbymarketing.com/1100/pyspark-joins-by-example/).\n",
    "\n",
    "The [DataBricks company has one of the better reference manuals for PySpark](https://docs.databricks.com/spark/latest/dataframes-datasets/index.html) -- they show you how to perform numerous common data operations such as joins, aggregation operations following `groupBy` and the like."
   ]
  },
  {
   "cell_type": "code",
   "execution_count": 1,
   "metadata": {},
   "outputs": [],
   "source": [
    "from pyspark import SparkContext, SparkConf\n",
    "from pyspark.sql import SparkSession"
   ]
  },
  {
   "cell_type": "markdown",
   "metadata": {},
   "source": [
    "The following aggregation functions may be useful -- [these can be used to aggregate results of `groupby` operations](https://docs.databricks.com/spark/latest/dataframes-datasets/introduction-to-dataframes-python.html#example-aggregations-using-agg-and-countdistinct). More documentation is at the [PySpark SQL Functions manual](https://spark.apache.org/docs/2.3.0/api/python/pyspark.sql.html#module-pyspark.sql.functions). Feel free to use other functions from that library."
   ]
  },
  {
   "cell_type": "code",
   "execution_count": 2,
   "metadata": {},
   "outputs": [],
   "source": [
    "from pyspark.sql.functions import col, count, countDistinct"
   ]
  },
  {
   "cell_type": "markdown",
   "metadata": {},
   "source": [
    "Create our session as described in the tutorials"
   ]
  },
  {
   "cell_type": "code",
   "execution_count": 3,
   "metadata": {},
   "outputs": [],
   "source": [
    "spark = SparkSession \\\n",
    "    .builder \\\n",
    "    .appName(\"Lab4-Dataframe\") \\\n",
    "    .master(\"local[*]\")\\\n",
    "    .getOrCreate()"
   ]
  },
  {
   "cell_type": "markdown",
   "metadata": {},
   "source": [
    "Read in the citations and patents data and check that the data makes sense. Note that unlike in the RDD solution, the data is automatically inferred to be Integer() types."
   ]
  },
  {
   "cell_type": "code",
   "execution_count": 4,
   "metadata": {},
   "outputs": [],
   "source": [
    "citations = spark.read.load('cite75_99.txt.gz',\n",
    "            format=\"csv\", sep=\",\", header=True,\n",
    "            compression=\"gzip\",\n",
    "            inferSchema=\"true\")"
   ]
  },
  {
   "cell_type": "code",
   "execution_count": 5,
   "metadata": {},
   "outputs": [
    {
     "name": "stdout",
     "output_type": "stream",
     "text": [
      "+-------+-------+\n",
      "| CITING|  CITED|\n",
      "+-------+-------+\n",
      "|3858241| 956203|\n",
      "|3858241|1324234|\n",
      "|3858241|3398406|\n",
      "|3858241|3557384|\n",
      "|3858241|3634889|\n",
      "+-------+-------+\n",
      "only showing top 5 rows\n",
      "\n"
     ]
    }
   ],
   "source": [
    "citations.show(5)"
   ]
  },
  {
   "cell_type": "code",
   "execution_count": 6,
   "metadata": {},
   "outputs": [],
   "source": [
    "patents = spark.read.load('apat63_99.txt.gz',\n",
    "            format=\"csv\", sep=\",\", header=True,\n",
    "            compression=\"gzip\",\n",
    "            inferSchema=\"true\")"
   ]
  },
  {
   "cell_type": "code",
   "execution_count": 7,
   "metadata": {},
   "outputs": [
    {
     "name": "stdout",
     "output_type": "stream",
     "text": [
      "+-------+-----+-----+-------+-------+-------+--------+-------+------+------+---+------+-----+--------+--------+-------+--------+--------+--------+--------+--------+--------+--------+\n",
      "| PATENT|GYEAR|GDATE|APPYEAR|COUNTRY|POSTATE|ASSIGNEE|ASSCODE|CLAIMS|NCLASS|CAT|SUBCAT|CMADE|CRECEIVE|RATIOCIT|GENERAL|ORIGINAL|FWDAPLAG|BCKGTLAG|SELFCTUB|SELFCTLB|SECDUPBD|SECDLWBD|\n",
      "+-------+-----+-----+-------+-------+-------+--------+-------+------+------+---+------+-----+--------+--------+-------+--------+--------+--------+--------+--------+--------+--------+\n",
      "|3070801| 1963| 1096|   null|     BE|   null|    null|      1|  null|   269|  6|    69| null|       1|    null|    0.0|    null|    null|    null|    null|    null|    null|    null|\n",
      "|3070802| 1963| 1096|   null|     US|     TX|    null|      1|  null|     2|  6|    63| null|       0|    null|   null|    null|    null|    null|    null|    null|    null|    null|\n",
      "|3070803| 1963| 1096|   null|     US|     IL|    null|      1|  null|     2|  6|    63| null|       9|    null| 0.3704|    null|    null|    null|    null|    null|    null|    null|\n",
      "|3070804| 1963| 1096|   null|     US|     OH|    null|      1|  null|     2|  6|    63| null|       3|    null| 0.6667|    null|    null|    null|    null|    null|    null|    null|\n",
      "|3070805| 1963| 1096|   null|     US|     CA|    null|      1|  null|     2|  6|    63| null|       1|    null|    0.0|    null|    null|    null|    null|    null|    null|    null|\n",
      "+-------+-----+-----+-------+-------+-------+--------+-------+------+------+---+------+-----+--------+--------+-------+--------+--------+--------+--------+--------+--------+--------+\n",
      "only showing top 5 rows\n",
      "\n"
     ]
    }
   ],
   "source": [
    "patents.show(5)"
   ]
  },
  {
   "cell_type": "code",
   "execution_count": 9,
   "metadata": {},
   "outputs": [],
   "source": [
    "# make a new table where each row from patent also has its citations, \n",
    "# and filter out rows where the patent does not have a postate\n",
    "nq1 = patents.join(citations, [(patents.PATENT == citations.CITING), (patents.POSTATE.isNotNull())]).cache()"
   ]
  },
  {
   "cell_type": "code",
   "execution_count": 26,
   "metadata": {},
   "outputs": [],
   "source": [
    "# join the new table created above back with patents to retrieve the\n",
    "# postate of the citations, such that the postate of the citations matches\n",
    "# the postate of their citing patent\n",
    "nq1 = nq1.alias('nq1')\n",
    "patents = patents.alias('patents')\n",
    "nq2 = nq1.join(patents, [(col('nq1.CITED') == col('patents.PATENT')) & (col('nq1.POSTATE')==col('patents.POSTATE'))]).cache()"
   ]
  },
  {
   "cell_type": "code",
   "execution_count": 69,
   "metadata": {},
   "outputs": [],
   "source": [
    "# group the rows by the citing patents and count the number of rows \n",
    "# for each unique patent\n",
    "nq3 = nq2.groupBy(col('nq1.PATENT')).count().cache()\n",
    "nq3 = nq3.alias('nq3')"
   ]
  },
  {
   "cell_type": "code",
   "execution_count": 80,
   "metadata": {},
   "outputs": [
    {
     "name": "stdout",
     "output_type": "stream",
     "text": [
      "+-------+-----+-----+-------+-------+-------+--------+-------+------+------+---+------+-----+--------+--------+-------+--------+--------+--------+--------+--------+--------+--------+----------+\n",
      "| PATENT|GYEAR|GDATE|APPYEAR|COUNTRY|POSTATE|ASSIGNEE|ASSCODE|CLAIMS|NCLASS|CAT|SUBCAT|CMADE|CRECEIVE|RATIOCIT|GENERAL|ORIGINAL|FWDAPLAG|BCKGTLAG|SELFCTUB|SELFCTLB|SECDUPBD|SECDLWBD|SAME_STATE|\n",
      "+-------+-----+-----+-------+-------+-------+--------+-------+------+------+---+------+-----+--------+--------+-------+--------+--------+--------+--------+--------+--------+--------+----------+\n",
      "|5959466| 1999|14515|   1997|     US|     CA|    5310|      2|  null|   326|  4|    46|  159|       0|     1.0|   null|  0.6186|    null|  4.8868|  0.0455|   0.044|    null|    null|       125|\n",
      "|5983822| 1999|14564|   1998|     US|     TX|  569900|      2|  null|   114|  5|    55|  200|       0|   0.995|   null|  0.7201|    null|   12.45|     0.0|     0.0|    null|    null|       103|\n",
      "|6008204| 1999|14606|   1998|     US|     CA|  749584|      2|  null|   514|  3|    31|  121|       0|     1.0|   null|  0.7415|    null|     5.0|  0.0085|  0.0083|    null|    null|       100|\n",
      "|5952345| 1999|14501|   1997|     US|     CA|  749584|      2|  null|   514|  3|    31|  118|       0|     1.0|   null|  0.7442|    null|  5.1102|     0.0|     0.0|    null|    null|        98|\n",
      "|5958954| 1999|14515|   1997|     US|     CA|  749584|      2|  null|   514|  3|    31|  116|       0|     1.0|   null|  0.7397|    null|   5.181|     0.0|     0.0|    null|    null|        96|\n",
      "|5998655| 1999|14585|   1998|     US|     CA|    null|      1|  null|   560|  1|    14|  114|       0|     1.0|   null|  0.7387|    null|  5.1667|    null|    null|    null|    null|        96|\n",
      "|5936426| 1999|14466|   1997|     US|     CA|    5310|      2|  null|   326|  4|    46|  178|       0|     1.0|   null|    0.58|    null| 11.2303|  0.0765|   0.073|    null|    null|        94|\n",
      "|5980517| 1999|14557|   1998|     US|     CA|  733846|      2|  null|   606|  3|    32|  241|       0|     1.0|   null|  0.7394|    null|  8.3776|     0.0|     0.0|    null|    null|        90|\n",
      "|5739256| 1998|13983|   1995|     US|     CA|   70060|      2|    15|   528|  1|    15|  453|       0|     1.0|   null|  0.8232|    null| 15.1104|  0.1124|  0.1082|    null|    null|        90|\n",
      "|5913855| 1999|14417|   1997|     US|     CA|  733846|      2|  null|   606|  3|    32|  242|       0|     1.0|   null|  0.7403|    null|  8.3595|     0.0|     0.0|    null|    null|        90|\n",
      "|5951547| 1999|14501|   1997|     US|     CA|  733846|      2|  null|   606|  3|    32|  242|       0|     1.0|   null|  0.7382|    null|  8.3471|     0.0|     0.0|    null|    null|        90|\n",
      "|5978329| 1999|14550|   1995|     US|     CA|  148925|      2|  null|   369|  2|    24|  145|       0|     1.0|   null|  0.5449|    null| 12.9241|  0.4196|  0.4138|    null|    null|        90|\n",
      "|5925042| 1999|14445|   1997|     US|     CA|  733846|      2|  null|   606|  3|    32|  242|       0|     1.0|   null|  0.7382|    null|  8.3471|     0.0|     0.0|    null|    null|        90|\n",
      "|5689485| 1997|13836|   1996|     US|     CA|  148925|      2|    30|   369|  2|    24|  138|       0|     1.0|   null|  0.5556|    null| 11.2174|  0.4307|  0.4275|    null|    null|        89|\n",
      "|5917082| 1999|14424|   1997|     US|     CA|  749584|      2|  null|   560|  1|    14|  107|       0|     1.0|   null|  0.7206|    null|  5.4393|     0.0|     0.0|    null|    null|        89|\n",
      "|5928229| 1999|14452|   1997|     US|     CA|  733846|      2|  null|   606|  3|    32|  240|       0|     1.0|   null|  0.7407|    null|  8.4083|     0.0|     0.0|    null|    null|        89|\n",
      "|5618907| 1997|13612|   1995|     US|     CA|   70060|      2|     6|   528|  1|    15|  453|       0|     1.0|   null|  0.8248|    null| 14.1369|  0.1103|   0.106|    null|    null|        89|\n",
      "|5978331| 1999|14550|   1997|     US|     CA|  148925|      2|  null|   369|  2|    24|  148|       0|     1.0|   null|  0.5278|    null| 12.9459|  0.4014|  0.3986|    null|    null|        89|\n",
      "|5602226| 1997|13556|   1995|     US|     CA|   70060|      2|    21|   528|  1|    15|  450|       0|     1.0|   null|  0.8273|    null| 14.1244|  0.1088|  0.1044|    null|    null|        88|\n",
      "|5847160| 1998|14221|   1997|     US|     CA|   19170|      2|    12|   549|  1|    14|  106|       0|     1.0|   null|  0.7246|    null|  4.4811|   0.835|  0.8113|    null|    null|        87|\n",
      "+-------+-----+-----+-------+-------+-------+--------+-------+------+------+---+------+-----+--------+--------+-------+--------+--------+--------+--------+--------+--------+--------+----------+\n",
      "only showing top 20 rows\n",
      "\n"
     ]
    }
   ],
   "source": [
    "# reformat the columns to match the required output and sort the rows\n",
    "# in decreasing order of cocitation counts\n",
    "nq3.join(patents, [(col('nq3.PATENT')==col('patents.PATENT'))]).sort(col('nq3.count').desc()).select([col('patents.PATENT'), \n",
    "                                                                                                                      col('patents.GYEAR'), \n",
    "                                                                                                                      col('patents.GDATE'), \n",
    "                                                                                                                      col('patents.APPYEAR'), \n",
    "                                                                                                                      col('patents.COUNTRY'), \n",
    "                                                                                                                      col('patents.POSTATE'), \n",
    "                                                                                                                      col('patents.ASSIGNEE'), \n",
    "                                                                                                                      col('patents.ASSCODE'), \n",
    "                                                                                                                      col('patents.CLAIMS'), \n",
    "                                                                                                                      col('patents.NCLASS'), \n",
    "                                                                                                                      col('patents.CAT'),\n",
    "                                                                                                                      col('patents.SUBCAT'), \n",
    "                                                                                                                      col('patents.CMADE'), \n",
    "                                                                                                                      col('patents.CRECEIVE'), \n",
    "                                                                                                                      col('patents.RATIOCIT'), \n",
    "                                                                                                                      col('patents.GENERAL'), \n",
    "                                                                                                                      col('patents.ORIGINAL'), \n",
    "                                                                                                                      col('patents.FWDAPLAG'), \n",
    "                                                                                                                      col('patents.BCKGTLAG'), \n",
    "                                                                                                                      col('patents.SELFCTUB'), \n",
    "                                                                                                                      col('patents.SELFCTLB'), \n",
    "                                                                                                                      col('patents.SECDUPBD'), \n",
    "                                                                                                                      col('patents.SECDLWBD'),\n",
    "                                                                                                                      col('count').alias('SAME_STATE')]).show()"
   ]
  }
 ],
 "metadata": {
  "kernelspec": {
   "display_name": "Python 3 (ipykernel)",
   "language": "python",
   "name": "python3"
  },
  "language_info": {
   "codemirror_mode": {
    "name": "ipython",
    "version": 3
   },
   "file_extension": ".py",
   "mimetype": "text/x-python",
   "name": "python",
   "nbconvert_exporter": "python",
   "pygments_lexer": "ipython3",
   "version": "3.10.5"
  }
 },
 "nbformat": 4,
 "nbformat_minor": 4
}
